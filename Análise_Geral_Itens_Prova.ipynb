{
  "nbformat": 4,
  "nbformat_minor": 0,
  "metadata": {
    "colab": {
      "provenance": [],
      "collapsed_sections": [],
      "toc_visible": true,
      "authorship_tag": "ABX9TyN2OYLAMz9WouxwteTXNoTo",
      "include_colab_link": true
    },
    "kernelspec": {
      "name": "python3",
      "display_name": "Python 3"
    },
    "language_info": {
      "name": "python"
    }
  },
  "cells": [
    {
      "cell_type": "markdown",
      "metadata": {
        "id": "view-in-github",
        "colab_type": "text"
      },
      "source": [
        "<a href=\"https://colab.research.google.com/github/Gus-1003/ENEM_2021-Data_analysis/blob/main/An%C3%A1lise_Geral_Itens_Prova.ipynb\" target=\"_parent\"><img src=\"https://colab.research.google.com/assets/colab-badge.svg\" alt=\"Open In Colab\"/></a>"
      ]
    },
    {
      "cell_type": "markdown",
      "source": [
        "# Análise Geral_Itens_Prova"
      ],
      "metadata": {
        "id": "hXuCgsRHbgZ8"
      }
    },
    {
      "cell_type": "markdown",
      "source": [
        "## Import de libs e ferramentas:"
      ],
      "metadata": {
        "id": "JcbUGksrdh36"
      }
    },
    {
      "cell_type": "code",
      "source": [
        "import pandas as pd\n",
        "\n",
        "import numpy as np\n",
        "\n",
        "import matplotlib.pyplot as plt\n",
        "import seaborn as sns"
      ],
      "metadata": {
        "id": "5hhWRBUNdhGL"
      },
      "execution_count": 1,
      "outputs": []
    },
    {
      "cell_type": "code",
      "source": [
        "from google.colab import drive\n",
        "drive.mount('/content/drive/')\n",
        "%cd /content/drive/MyDrive/"
      ],
      "metadata": {
        "colab": {
          "base_uri": "https://localhost:8080/"
        },
        "id": "gEJhEuy7d7Yi",
        "outputId": "e13f49af-d5a4-44e5-806b-ec248cf7c86a"
      },
      "execution_count": 3,
      "outputs": [
        {
          "output_type": "stream",
          "name": "stdout",
          "text": [
            "Mounted at /content/drive/\n",
            "/content/drive/MyDrive\n"
          ]
        }
      ]
    },
    {
      "cell_type": "markdown",
      "source": [
        "## 1.Análise Exploratoria"
      ],
      "metadata": {
        "id": "trw4uX-9cmR8"
      }
    },
    {
      "cell_type": "code",
      "execution_count": 37,
      "metadata": {
        "id": "a4JPIoxnbfSx"
      },
      "outputs": [],
      "source": [
        "# ler dados de interesse\n",
        "dados = pd.read_csv('/content/drive/MyDrive/PIBIC-ENEM2021-Gustavo_Maciel/Base de Dados/ITENS_PROVA_2021.csv', encoding='latin1', delimiter=';')"
      ]
    },
    {
      "cell_type": "code",
      "source": [
        "display(dados)"
      ],
      "metadata": {
        "colab": {
          "base_uri": "https://localhost:8080/",
          "height": 488
        },
        "id": "MSNoSNlKg4LS",
        "outputId": "8e90fae7-39b4-4632-e0e3-ff57fb59533b"
      },
      "execution_count": 38,
      "outputs": [
        {
          "output_type": "display_data",
          "data": {
            "text/plain": [
              "      CO_POSICAO SG_AREA  CO_ITEM TX_GABARITO  CO_HABILIDADE  IN_ITEM_ABAN  \\\n",
              "0            102      CN    62293           B            5.0             0   \n",
              "1            122      CN    82265           C            8.0             0   \n",
              "2            125      CN    81640           B           21.0             0   \n",
              "3             95      CN   117843           A           27.0             0   \n",
              "4             96      CN    63600           B           15.0             0   \n",
              "...          ...     ...      ...         ...            ...           ...   \n",
              "5360         177      MT   117672           C           29.0             0   \n",
              "5361         178      MT   111508           E           30.0             0   \n",
              "5362         179      MT    33176           D            3.0             0   \n",
              "5363         180      MT    47348           E           18.0             0   \n",
              "5364         136      MT    60342           B            1.0             0   \n",
              "\n",
              "     TX_MOTIVO_ABAN  NU_PARAM_A  NU_PARAM_B  NU_PARAM_C   TX_COR  CO_PROVA  \\\n",
              "0               NaN     3.00296     1.17427     0.16918     AZUL       909   \n",
              "1               NaN     2.63278     0.67271     0.32905     AZUL       909   \n",
              "2               NaN     1.70410     1.93672     0.18178     AZUL       909   \n",
              "3               NaN     4.13911     0.76309     0.13487     AZUL       909   \n",
              "4               NaN     2.78598     1.12828     0.24608     AZUL       909   \n",
              "...             ...         ...         ...         ...      ...       ...   \n",
              "5360            NaN     1.63194     0.42624     0.17509  LARANJA      1042   \n",
              "5361            NaN     2.55391     2.43617     0.11117  LARANJA      1042   \n",
              "5362            NaN     3.00882     1.91205     0.13426  LARANJA      1042   \n",
              "5363            NaN     2.89510     1.31087     0.20170  LARANJA      1042   \n",
              "5364            NaN     2.20341     1.59108     0.24863  LARANJA      1042   \n",
              "\n",
              "      TP_LINGUA  IN_ITEM_ADAPTADO  \n",
              "0           NaN               NaN  \n",
              "1           NaN               NaN  \n",
              "2           NaN               NaN  \n",
              "3           NaN               NaN  \n",
              "4           NaN               NaN  \n",
              "...         ...               ...  \n",
              "5360        NaN               1.0  \n",
              "5361        NaN               1.0  \n",
              "5362        NaN               1.0  \n",
              "5363        NaN               1.0  \n",
              "5364        NaN               1.0  \n",
              "\n",
              "[5365 rows x 14 columns]"
            ],
            "text/html": [
              "\n",
              "  <div id=\"df-90028f40-67b5-4cca-8a37-448b8aa8974c\">\n",
              "    <div class=\"colab-df-container\">\n",
              "      <div>\n",
              "<style scoped>\n",
              "    .dataframe tbody tr th:only-of-type {\n",
              "        vertical-align: middle;\n",
              "    }\n",
              "\n",
              "    .dataframe tbody tr th {\n",
              "        vertical-align: top;\n",
              "    }\n",
              "\n",
              "    .dataframe thead th {\n",
              "        text-align: right;\n",
              "    }\n",
              "</style>\n",
              "<table border=\"1\" class=\"dataframe\">\n",
              "  <thead>\n",
              "    <tr style=\"text-align: right;\">\n",
              "      <th></th>\n",
              "      <th>CO_POSICAO</th>\n",
              "      <th>SG_AREA</th>\n",
              "      <th>CO_ITEM</th>\n",
              "      <th>TX_GABARITO</th>\n",
              "      <th>CO_HABILIDADE</th>\n",
              "      <th>IN_ITEM_ABAN</th>\n",
              "      <th>TX_MOTIVO_ABAN</th>\n",
              "      <th>NU_PARAM_A</th>\n",
              "      <th>NU_PARAM_B</th>\n",
              "      <th>NU_PARAM_C</th>\n",
              "      <th>TX_COR</th>\n",
              "      <th>CO_PROVA</th>\n",
              "      <th>TP_LINGUA</th>\n",
              "      <th>IN_ITEM_ADAPTADO</th>\n",
              "    </tr>\n",
              "  </thead>\n",
              "  <tbody>\n",
              "    <tr>\n",
              "      <th>0</th>\n",
              "      <td>102</td>\n",
              "      <td>CN</td>\n",
              "      <td>62293</td>\n",
              "      <td>B</td>\n",
              "      <td>5.0</td>\n",
              "      <td>0</td>\n",
              "      <td>NaN</td>\n",
              "      <td>3.00296</td>\n",
              "      <td>1.17427</td>\n",
              "      <td>0.16918</td>\n",
              "      <td>AZUL</td>\n",
              "      <td>909</td>\n",
              "      <td>NaN</td>\n",
              "      <td>NaN</td>\n",
              "    </tr>\n",
              "    <tr>\n",
              "      <th>1</th>\n",
              "      <td>122</td>\n",
              "      <td>CN</td>\n",
              "      <td>82265</td>\n",
              "      <td>C</td>\n",
              "      <td>8.0</td>\n",
              "      <td>0</td>\n",
              "      <td>NaN</td>\n",
              "      <td>2.63278</td>\n",
              "      <td>0.67271</td>\n",
              "      <td>0.32905</td>\n",
              "      <td>AZUL</td>\n",
              "      <td>909</td>\n",
              "      <td>NaN</td>\n",
              "      <td>NaN</td>\n",
              "    </tr>\n",
              "    <tr>\n",
              "      <th>2</th>\n",
              "      <td>125</td>\n",
              "      <td>CN</td>\n",
              "      <td>81640</td>\n",
              "      <td>B</td>\n",
              "      <td>21.0</td>\n",
              "      <td>0</td>\n",
              "      <td>NaN</td>\n",
              "      <td>1.70410</td>\n",
              "      <td>1.93672</td>\n",
              "      <td>0.18178</td>\n",
              "      <td>AZUL</td>\n",
              "      <td>909</td>\n",
              "      <td>NaN</td>\n",
              "      <td>NaN</td>\n",
              "    </tr>\n",
              "    <tr>\n",
              "      <th>3</th>\n",
              "      <td>95</td>\n",
              "      <td>CN</td>\n",
              "      <td>117843</td>\n",
              "      <td>A</td>\n",
              "      <td>27.0</td>\n",
              "      <td>0</td>\n",
              "      <td>NaN</td>\n",
              "      <td>4.13911</td>\n",
              "      <td>0.76309</td>\n",
              "      <td>0.13487</td>\n",
              "      <td>AZUL</td>\n",
              "      <td>909</td>\n",
              "      <td>NaN</td>\n",
              "      <td>NaN</td>\n",
              "    </tr>\n",
              "    <tr>\n",
              "      <th>4</th>\n",
              "      <td>96</td>\n",
              "      <td>CN</td>\n",
              "      <td>63600</td>\n",
              "      <td>B</td>\n",
              "      <td>15.0</td>\n",
              "      <td>0</td>\n",
              "      <td>NaN</td>\n",
              "      <td>2.78598</td>\n",
              "      <td>1.12828</td>\n",
              "      <td>0.24608</td>\n",
              "      <td>AZUL</td>\n",
              "      <td>909</td>\n",
              "      <td>NaN</td>\n",
              "      <td>NaN</td>\n",
              "    </tr>\n",
              "    <tr>\n",
              "      <th>...</th>\n",
              "      <td>...</td>\n",
              "      <td>...</td>\n",
              "      <td>...</td>\n",
              "      <td>...</td>\n",
              "      <td>...</td>\n",
              "      <td>...</td>\n",
              "      <td>...</td>\n",
              "      <td>...</td>\n",
              "      <td>...</td>\n",
              "      <td>...</td>\n",
              "      <td>...</td>\n",
              "      <td>...</td>\n",
              "      <td>...</td>\n",
              "      <td>...</td>\n",
              "    </tr>\n",
              "    <tr>\n",
              "      <th>5360</th>\n",
              "      <td>177</td>\n",
              "      <td>MT</td>\n",
              "      <td>117672</td>\n",
              "      <td>C</td>\n",
              "      <td>29.0</td>\n",
              "      <td>0</td>\n",
              "      <td>NaN</td>\n",
              "      <td>1.63194</td>\n",
              "      <td>0.42624</td>\n",
              "      <td>0.17509</td>\n",
              "      <td>LARANJA</td>\n",
              "      <td>1042</td>\n",
              "      <td>NaN</td>\n",
              "      <td>1.0</td>\n",
              "    </tr>\n",
              "    <tr>\n",
              "      <th>5361</th>\n",
              "      <td>178</td>\n",
              "      <td>MT</td>\n",
              "      <td>111508</td>\n",
              "      <td>E</td>\n",
              "      <td>30.0</td>\n",
              "      <td>0</td>\n",
              "      <td>NaN</td>\n",
              "      <td>2.55391</td>\n",
              "      <td>2.43617</td>\n",
              "      <td>0.11117</td>\n",
              "      <td>LARANJA</td>\n",
              "      <td>1042</td>\n",
              "      <td>NaN</td>\n",
              "      <td>1.0</td>\n",
              "    </tr>\n",
              "    <tr>\n",
              "      <th>5362</th>\n",
              "      <td>179</td>\n",
              "      <td>MT</td>\n",
              "      <td>33176</td>\n",
              "      <td>D</td>\n",
              "      <td>3.0</td>\n",
              "      <td>0</td>\n",
              "      <td>NaN</td>\n",
              "      <td>3.00882</td>\n",
              "      <td>1.91205</td>\n",
              "      <td>0.13426</td>\n",
              "      <td>LARANJA</td>\n",
              "      <td>1042</td>\n",
              "      <td>NaN</td>\n",
              "      <td>1.0</td>\n",
              "    </tr>\n",
              "    <tr>\n",
              "      <th>5363</th>\n",
              "      <td>180</td>\n",
              "      <td>MT</td>\n",
              "      <td>47348</td>\n",
              "      <td>E</td>\n",
              "      <td>18.0</td>\n",
              "      <td>0</td>\n",
              "      <td>NaN</td>\n",
              "      <td>2.89510</td>\n",
              "      <td>1.31087</td>\n",
              "      <td>0.20170</td>\n",
              "      <td>LARANJA</td>\n",
              "      <td>1042</td>\n",
              "      <td>NaN</td>\n",
              "      <td>1.0</td>\n",
              "    </tr>\n",
              "    <tr>\n",
              "      <th>5364</th>\n",
              "      <td>136</td>\n",
              "      <td>MT</td>\n",
              "      <td>60342</td>\n",
              "      <td>B</td>\n",
              "      <td>1.0</td>\n",
              "      <td>0</td>\n",
              "      <td>NaN</td>\n",
              "      <td>2.20341</td>\n",
              "      <td>1.59108</td>\n",
              "      <td>0.24863</td>\n",
              "      <td>LARANJA</td>\n",
              "      <td>1042</td>\n",
              "      <td>NaN</td>\n",
              "      <td>1.0</td>\n",
              "    </tr>\n",
              "  </tbody>\n",
              "</table>\n",
              "<p>5365 rows × 14 columns</p>\n",
              "</div>\n",
              "      <button class=\"colab-df-convert\" onclick=\"convertToInteractive('df-90028f40-67b5-4cca-8a37-448b8aa8974c')\"\n",
              "              title=\"Convert this dataframe to an interactive table.\"\n",
              "              style=\"display:none;\">\n",
              "        \n",
              "  <svg xmlns=\"http://www.w3.org/2000/svg\" height=\"24px\"viewBox=\"0 0 24 24\"\n",
              "       width=\"24px\">\n",
              "    <path d=\"M0 0h24v24H0V0z\" fill=\"none\"/>\n",
              "    <path d=\"M18.56 5.44l.94 2.06.94-2.06 2.06-.94-2.06-.94-.94-2.06-.94 2.06-2.06.94zm-11 1L8.5 8.5l.94-2.06 2.06-.94-2.06-.94L8.5 2.5l-.94 2.06-2.06.94zm10 10l.94 2.06.94-2.06 2.06-.94-2.06-.94-.94-2.06-.94 2.06-2.06.94z\"/><path d=\"M17.41 7.96l-1.37-1.37c-.4-.4-.92-.59-1.43-.59-.52 0-1.04.2-1.43.59L10.3 9.45l-7.72 7.72c-.78.78-.78 2.05 0 2.83L4 21.41c.39.39.9.59 1.41.59.51 0 1.02-.2 1.41-.59l7.78-7.78 2.81-2.81c.8-.78.8-2.07 0-2.86zM5.41 20L4 18.59l7.72-7.72 1.47 1.35L5.41 20z\"/>\n",
              "  </svg>\n",
              "      </button>\n",
              "      \n",
              "  <style>\n",
              "    .colab-df-container {\n",
              "      display:flex;\n",
              "      flex-wrap:wrap;\n",
              "      gap: 12px;\n",
              "    }\n",
              "\n",
              "    .colab-df-convert {\n",
              "      background-color: #E8F0FE;\n",
              "      border: none;\n",
              "      border-radius: 50%;\n",
              "      cursor: pointer;\n",
              "      display: none;\n",
              "      fill: #1967D2;\n",
              "      height: 32px;\n",
              "      padding: 0 0 0 0;\n",
              "      width: 32px;\n",
              "    }\n",
              "\n",
              "    .colab-df-convert:hover {\n",
              "      background-color: #E2EBFA;\n",
              "      box-shadow: 0px 1px 2px rgba(60, 64, 67, 0.3), 0px 1px 3px 1px rgba(60, 64, 67, 0.15);\n",
              "      fill: #174EA6;\n",
              "    }\n",
              "\n",
              "    [theme=dark] .colab-df-convert {\n",
              "      background-color: #3B4455;\n",
              "      fill: #D2E3FC;\n",
              "    }\n",
              "\n",
              "    [theme=dark] .colab-df-convert:hover {\n",
              "      background-color: #434B5C;\n",
              "      box-shadow: 0px 1px 3px 1px rgba(0, 0, 0, 0.15);\n",
              "      filter: drop-shadow(0px 1px 2px rgba(0, 0, 0, 0.3));\n",
              "      fill: #FFFFFF;\n",
              "    }\n",
              "  </style>\n",
              "\n",
              "      <script>\n",
              "        const buttonEl =\n",
              "          document.querySelector('#df-90028f40-67b5-4cca-8a37-448b8aa8974c button.colab-df-convert');\n",
              "        buttonEl.style.display =\n",
              "          google.colab.kernel.accessAllowed ? 'block' : 'none';\n",
              "\n",
              "        async function convertToInteractive(key) {\n",
              "          const element = document.querySelector('#df-90028f40-67b5-4cca-8a37-448b8aa8974c');\n",
              "          const dataTable =\n",
              "            await google.colab.kernel.invokeFunction('convertToInteractive',\n",
              "                                                     [key], {});\n",
              "          if (!dataTable) return;\n",
              "\n",
              "          const docLinkHtml = 'Like what you see? Visit the ' +\n",
              "            '<a target=\"_blank\" href=https://colab.research.google.com/notebooks/data_table.ipynb>data table notebook</a>'\n",
              "            + ' to learn more about interactive tables.';\n",
              "          element.innerHTML = '';\n",
              "          dataTable['output_type'] = 'display_data';\n",
              "          await google.colab.output.renderOutput(dataTable, element);\n",
              "          const docLink = document.createElement('div');\n",
              "          docLink.innerHTML = docLinkHtml;\n",
              "          element.appendChild(docLink);\n",
              "        }\n",
              "      </script>\n",
              "    </div>\n",
              "  </div>\n",
              "  "
            ]
          },
          "metadata": {}
        }
      ]
    },
    {
      "cell_type": "code",
      "source": [
        "# dados.head()"
      ],
      "metadata": {
        "id": "tW81bKZcektz"
      },
      "execution_count": 33,
      "outputs": []
    },
    {
      "cell_type": "code",
      "source": [
        "# dados.tail()"
      ],
      "metadata": {
        "id": "eiP05q1KgvKq"
      },
      "execution_count": 34,
      "outputs": []
    },
    {
      "cell_type": "code",
      "source": [
        "dados.shape"
      ],
      "metadata": {
        "colab": {
          "base_uri": "https://localhost:8080/"
        },
        "id": "6iurhlacgBou",
        "outputId": "f53030d8-c06e-4b1d-93d2-4cc7babb4580"
      },
      "execution_count": 23,
      "outputs": [
        {
          "output_type": "execute_result",
          "data": {
            "text/plain": [
              "(5365, 14)"
            ]
          },
          "metadata": {},
          "execution_count": 23
        }
      ]
    },
    {
      "cell_type": "code",
      "source": [
        "dados.info()"
      ],
      "metadata": {
        "colab": {
          "base_uri": "https://localhost:8080/"
        },
        "id": "F1J30HMwf-wP",
        "outputId": "9c049ec0-4024-4f3d-a904-2b7f022da2af"
      },
      "execution_count": 21,
      "outputs": [
        {
          "output_type": "stream",
          "name": "stdout",
          "text": [
            "<class 'pandas.core.frame.DataFrame'>\n",
            "RangeIndex: 5365 entries, 0 to 5364\n",
            "Data columns (total 14 columns):\n",
            " #   Column            Non-Null Count  Dtype  \n",
            "---  ------            --------------  -----  \n",
            " 0   CO_POSICAO        5365 non-null   int64  \n",
            " 1   SG_AREA           5365 non-null   object \n",
            " 2   CO_ITEM           5365 non-null   int64  \n",
            " 3   TX_GABARITO       5365 non-null   object \n",
            " 4   CO_HABILIDADE     5352 non-null   float64\n",
            " 5   IN_ITEM_ABAN      5365 non-null   int64  \n",
            " 6   TX_MOTIVO_ABAN    66 non-null     object \n",
            " 7   NU_PARAM_A        5299 non-null   float64\n",
            " 8   NU_PARAM_B        5299 non-null   float64\n",
            " 9   NU_PARAM_C        5299 non-null   float64\n",
            " 10  TX_COR            5365 non-null   object \n",
            " 11  CO_PROVA          5365 non-null   int64  \n",
            " 12  TP_LINGUA         290 non-null    float64\n",
            " 13  IN_ITEM_ADAPTADO  1295 non-null   float64\n",
            "dtypes: float64(6), int64(4), object(4)\n",
            "memory usage: 586.9+ KB\n"
          ]
        }
      ]
    },
    {
      "cell_type": "code",
      "source": [
        "dados.isna().sum()"
      ],
      "metadata": {
        "colab": {
          "base_uri": "https://localhost:8080/"
        },
        "id": "8dlCNfd_gZPf",
        "outputId": "b7bb575e-0e6f-4705-8717-b32e2ab56fc5"
      },
      "execution_count": 26,
      "outputs": [
        {
          "output_type": "execute_result",
          "data": {
            "text/plain": [
              "CO_POSICAO             0\n",
              "SG_AREA                0\n",
              "CO_ITEM                0\n",
              "TX_GABARITO            0\n",
              "CO_HABILIDADE         13\n",
              "IN_ITEM_ABAN           0\n",
              "TX_MOTIVO_ABAN      5299\n",
              "NU_PARAM_A            66\n",
              "NU_PARAM_B            66\n",
              "NU_PARAM_C            66\n",
              "TX_COR                 0\n",
              "CO_PROVA               0\n",
              "TP_LINGUA           5075\n",
              "IN_ITEM_ADAPTADO    4070\n",
              "dtype: int64"
            ]
          },
          "metadata": {},
          "execution_count": 26
        }
      ]
    },
    {
      "cell_type": "code",
      "source": [
        "dados.describe()"
      ],
      "metadata": {
        "colab": {
          "base_uri": "https://localhost:8080/",
          "height": 300
        },
        "id": "S1DAoPWFgULI",
        "outputId": "9fe64c0c-5b50-41d2-8f7c-d133250dd198"
      },
      "execution_count": 24,
      "outputs": [
        {
          "output_type": "execute_result",
          "data": {
            "text/plain": [
              "        CO_POSICAO        CO_ITEM  CO_HABILIDADE  IN_ITEM_ABAN   NU_PARAM_A  \\\n",
              "count  5365.000000    5365.000000    5352.000000   5365.000000  5299.000000   \n",
              "mean     88.135135   86048.197950      15.165546      0.012302     2.126507   \n",
              "std      53.187032   33034.529877       8.644599      0.110240     0.726732   \n",
              "min       1.000000    8219.000000       1.000000      0.000000     0.274140   \n",
              "25%      42.000000   66689.000000       8.000000      0.000000     1.576720   \n",
              "50%      88.000000   89864.000000      15.000000      0.000000     2.100510   \n",
              "75%     134.000000  112132.000000      23.000000      0.000000     2.651520   \n",
              "max     180.000000  126594.000000      30.000000      1.000000     4.139110   \n",
              "\n",
              "        NU_PARAM_B   NU_PARAM_C     CO_PROVA   TP_LINGUA  IN_ITEM_ADAPTADO  \n",
              "count  5299.000000  5299.000000  5365.000000  290.000000            1295.0  \n",
              "mean      1.185169     0.175469   972.151911    0.500000               1.0  \n",
              "std       0.823139     0.057618    55.044066    0.500864               0.0  \n",
              "min      -1.419310     0.007470   879.000000    0.000000               1.0  \n",
              "25%       0.590330     0.138870   910.000000    0.000000               1.0  \n",
              "50%       1.192860     0.177000   984.000000    0.500000               1.0  \n",
              "75%       1.716370     0.210680  1018.000000    1.000000               1.0  \n",
              "max       4.967880     0.338800  1052.000000    1.000000               1.0  "
            ],
            "text/html": [
              "\n",
              "  <div id=\"df-1f2a3916-0feb-4265-8f46-111b96a18b50\">\n",
              "    <div class=\"colab-df-container\">\n",
              "      <div>\n",
              "<style scoped>\n",
              "    .dataframe tbody tr th:only-of-type {\n",
              "        vertical-align: middle;\n",
              "    }\n",
              "\n",
              "    .dataframe tbody tr th {\n",
              "        vertical-align: top;\n",
              "    }\n",
              "\n",
              "    .dataframe thead th {\n",
              "        text-align: right;\n",
              "    }\n",
              "</style>\n",
              "<table border=\"1\" class=\"dataframe\">\n",
              "  <thead>\n",
              "    <tr style=\"text-align: right;\">\n",
              "      <th></th>\n",
              "      <th>CO_POSICAO</th>\n",
              "      <th>CO_ITEM</th>\n",
              "      <th>CO_HABILIDADE</th>\n",
              "      <th>IN_ITEM_ABAN</th>\n",
              "      <th>NU_PARAM_A</th>\n",
              "      <th>NU_PARAM_B</th>\n",
              "      <th>NU_PARAM_C</th>\n",
              "      <th>CO_PROVA</th>\n",
              "      <th>TP_LINGUA</th>\n",
              "      <th>IN_ITEM_ADAPTADO</th>\n",
              "    </tr>\n",
              "  </thead>\n",
              "  <tbody>\n",
              "    <tr>\n",
              "      <th>count</th>\n",
              "      <td>5365.000000</td>\n",
              "      <td>5365.000000</td>\n",
              "      <td>5352.000000</td>\n",
              "      <td>5365.000000</td>\n",
              "      <td>5299.000000</td>\n",
              "      <td>5299.000000</td>\n",
              "      <td>5299.000000</td>\n",
              "      <td>5365.000000</td>\n",
              "      <td>290.000000</td>\n",
              "      <td>1295.0</td>\n",
              "    </tr>\n",
              "    <tr>\n",
              "      <th>mean</th>\n",
              "      <td>88.135135</td>\n",
              "      <td>86048.197950</td>\n",
              "      <td>15.165546</td>\n",
              "      <td>0.012302</td>\n",
              "      <td>2.126507</td>\n",
              "      <td>1.185169</td>\n",
              "      <td>0.175469</td>\n",
              "      <td>972.151911</td>\n",
              "      <td>0.500000</td>\n",
              "      <td>1.0</td>\n",
              "    </tr>\n",
              "    <tr>\n",
              "      <th>std</th>\n",
              "      <td>53.187032</td>\n",
              "      <td>33034.529877</td>\n",
              "      <td>8.644599</td>\n",
              "      <td>0.110240</td>\n",
              "      <td>0.726732</td>\n",
              "      <td>0.823139</td>\n",
              "      <td>0.057618</td>\n",
              "      <td>55.044066</td>\n",
              "      <td>0.500864</td>\n",
              "      <td>0.0</td>\n",
              "    </tr>\n",
              "    <tr>\n",
              "      <th>min</th>\n",
              "      <td>1.000000</td>\n",
              "      <td>8219.000000</td>\n",
              "      <td>1.000000</td>\n",
              "      <td>0.000000</td>\n",
              "      <td>0.274140</td>\n",
              "      <td>-1.419310</td>\n",
              "      <td>0.007470</td>\n",
              "      <td>879.000000</td>\n",
              "      <td>0.000000</td>\n",
              "      <td>1.0</td>\n",
              "    </tr>\n",
              "    <tr>\n",
              "      <th>25%</th>\n",
              "      <td>42.000000</td>\n",
              "      <td>66689.000000</td>\n",
              "      <td>8.000000</td>\n",
              "      <td>0.000000</td>\n",
              "      <td>1.576720</td>\n",
              "      <td>0.590330</td>\n",
              "      <td>0.138870</td>\n",
              "      <td>910.000000</td>\n",
              "      <td>0.000000</td>\n",
              "      <td>1.0</td>\n",
              "    </tr>\n",
              "    <tr>\n",
              "      <th>50%</th>\n",
              "      <td>88.000000</td>\n",
              "      <td>89864.000000</td>\n",
              "      <td>15.000000</td>\n",
              "      <td>0.000000</td>\n",
              "      <td>2.100510</td>\n",
              "      <td>1.192860</td>\n",
              "      <td>0.177000</td>\n",
              "      <td>984.000000</td>\n",
              "      <td>0.500000</td>\n",
              "      <td>1.0</td>\n",
              "    </tr>\n",
              "    <tr>\n",
              "      <th>75%</th>\n",
              "      <td>134.000000</td>\n",
              "      <td>112132.000000</td>\n",
              "      <td>23.000000</td>\n",
              "      <td>0.000000</td>\n",
              "      <td>2.651520</td>\n",
              "      <td>1.716370</td>\n",
              "      <td>0.210680</td>\n",
              "      <td>1018.000000</td>\n",
              "      <td>1.000000</td>\n",
              "      <td>1.0</td>\n",
              "    </tr>\n",
              "    <tr>\n",
              "      <th>max</th>\n",
              "      <td>180.000000</td>\n",
              "      <td>126594.000000</td>\n",
              "      <td>30.000000</td>\n",
              "      <td>1.000000</td>\n",
              "      <td>4.139110</td>\n",
              "      <td>4.967880</td>\n",
              "      <td>0.338800</td>\n",
              "      <td>1052.000000</td>\n",
              "      <td>1.000000</td>\n",
              "      <td>1.0</td>\n",
              "    </tr>\n",
              "  </tbody>\n",
              "</table>\n",
              "</div>\n",
              "      <button class=\"colab-df-convert\" onclick=\"convertToInteractive('df-1f2a3916-0feb-4265-8f46-111b96a18b50')\"\n",
              "              title=\"Convert this dataframe to an interactive table.\"\n",
              "              style=\"display:none;\">\n",
              "        \n",
              "  <svg xmlns=\"http://www.w3.org/2000/svg\" height=\"24px\"viewBox=\"0 0 24 24\"\n",
              "       width=\"24px\">\n",
              "    <path d=\"M0 0h24v24H0V0z\" fill=\"none\"/>\n",
              "    <path d=\"M18.56 5.44l.94 2.06.94-2.06 2.06-.94-2.06-.94-.94-2.06-.94 2.06-2.06.94zm-11 1L8.5 8.5l.94-2.06 2.06-.94-2.06-.94L8.5 2.5l-.94 2.06-2.06.94zm10 10l.94 2.06.94-2.06 2.06-.94-2.06-.94-.94-2.06-.94 2.06-2.06.94z\"/><path d=\"M17.41 7.96l-1.37-1.37c-.4-.4-.92-.59-1.43-.59-.52 0-1.04.2-1.43.59L10.3 9.45l-7.72 7.72c-.78.78-.78 2.05 0 2.83L4 21.41c.39.39.9.59 1.41.59.51 0 1.02-.2 1.41-.59l7.78-7.78 2.81-2.81c.8-.78.8-2.07 0-2.86zM5.41 20L4 18.59l7.72-7.72 1.47 1.35L5.41 20z\"/>\n",
              "  </svg>\n",
              "      </button>\n",
              "      \n",
              "  <style>\n",
              "    .colab-df-container {\n",
              "      display:flex;\n",
              "      flex-wrap:wrap;\n",
              "      gap: 12px;\n",
              "    }\n",
              "\n",
              "    .colab-df-convert {\n",
              "      background-color: #E8F0FE;\n",
              "      border: none;\n",
              "      border-radius: 50%;\n",
              "      cursor: pointer;\n",
              "      display: none;\n",
              "      fill: #1967D2;\n",
              "      height: 32px;\n",
              "      padding: 0 0 0 0;\n",
              "      width: 32px;\n",
              "    }\n",
              "\n",
              "    .colab-df-convert:hover {\n",
              "      background-color: #E2EBFA;\n",
              "      box-shadow: 0px 1px 2px rgba(60, 64, 67, 0.3), 0px 1px 3px 1px rgba(60, 64, 67, 0.15);\n",
              "      fill: #174EA6;\n",
              "    }\n",
              "\n",
              "    [theme=dark] .colab-df-convert {\n",
              "      background-color: #3B4455;\n",
              "      fill: #D2E3FC;\n",
              "    }\n",
              "\n",
              "    [theme=dark] .colab-df-convert:hover {\n",
              "      background-color: #434B5C;\n",
              "      box-shadow: 0px 1px 3px 1px rgba(0, 0, 0, 0.15);\n",
              "      filter: drop-shadow(0px 1px 2px rgba(0, 0, 0, 0.3));\n",
              "      fill: #FFFFFF;\n",
              "    }\n",
              "  </style>\n",
              "\n",
              "      <script>\n",
              "        const buttonEl =\n",
              "          document.querySelector('#df-1f2a3916-0feb-4265-8f46-111b96a18b50 button.colab-df-convert');\n",
              "        buttonEl.style.display =\n",
              "          google.colab.kernel.accessAllowed ? 'block' : 'none';\n",
              "\n",
              "        async function convertToInteractive(key) {\n",
              "          const element = document.querySelector('#df-1f2a3916-0feb-4265-8f46-111b96a18b50');\n",
              "          const dataTable =\n",
              "            await google.colab.kernel.invokeFunction('convertToInteractive',\n",
              "                                                     [key], {});\n",
              "          if (!dataTable) return;\n",
              "\n",
              "          const docLinkHtml = 'Like what you see? Visit the ' +\n",
              "            '<a target=\"_blank\" href=https://colab.research.google.com/notebooks/data_table.ipynb>data table notebook</a>'\n",
              "            + ' to learn more about interactive tables.';\n",
              "          element.innerHTML = '';\n",
              "          dataTable['output_type'] = 'display_data';\n",
              "          await google.colab.output.renderOutput(dataTable, element);\n",
              "          const docLink = document.createElement('div');\n",
              "          docLink.innerHTML = docLinkHtml;\n",
              "          element.appendChild(docLink);\n",
              "        }\n",
              "      </script>\n",
              "    </div>\n",
              "  </div>\n",
              "  "
            ]
          },
          "metadata": {},
          "execution_count": 24
        }
      ]
    },
    {
      "cell_type": "code",
      "source": [
        "dados.describe(include='object')"
      ],
      "metadata": {
        "colab": {
          "base_uri": "https://localhost:8080/",
          "height": 175
        },
        "id": "W2XDm7PNgWkZ",
        "outputId": "08a3c284-97be-4949-b8b5-e9317253eded"
      },
      "execution_count": 25,
      "outputs": [
        {
          "output_type": "execute_result",
          "data": {
            "text/plain": [
              "       SG_AREA TX_GABARITO                                     TX_MOTIVO_ABAN  \\\n",
              "count     5365        5365                                                 66   \n",
              "unique       4           6                                                  2   \n",
              "top         LC           B  Não permitiu a convergência do algoritmo de es...   \n",
              "freq      1450        1336                                                 41   \n",
              "\n",
              "         TX_COR  \n",
              "count      5365  \n",
              "unique        7  \n",
              "top     AMARELA  \n",
              "freq       1850  "
            ],
            "text/html": [
              "\n",
              "  <div id=\"df-64b04bc3-46dd-4928-9544-074b7a2f538b\">\n",
              "    <div class=\"colab-df-container\">\n",
              "      <div>\n",
              "<style scoped>\n",
              "    .dataframe tbody tr th:only-of-type {\n",
              "        vertical-align: middle;\n",
              "    }\n",
              "\n",
              "    .dataframe tbody tr th {\n",
              "        vertical-align: top;\n",
              "    }\n",
              "\n",
              "    .dataframe thead th {\n",
              "        text-align: right;\n",
              "    }\n",
              "</style>\n",
              "<table border=\"1\" class=\"dataframe\">\n",
              "  <thead>\n",
              "    <tr style=\"text-align: right;\">\n",
              "      <th></th>\n",
              "      <th>SG_AREA</th>\n",
              "      <th>TX_GABARITO</th>\n",
              "      <th>TX_MOTIVO_ABAN</th>\n",
              "      <th>TX_COR</th>\n",
              "    </tr>\n",
              "  </thead>\n",
              "  <tbody>\n",
              "    <tr>\n",
              "      <th>count</th>\n",
              "      <td>5365</td>\n",
              "      <td>5365</td>\n",
              "      <td>66</td>\n",
              "      <td>5365</td>\n",
              "    </tr>\n",
              "    <tr>\n",
              "      <th>unique</th>\n",
              "      <td>4</td>\n",
              "      <td>6</td>\n",
              "      <td>2</td>\n",
              "      <td>7</td>\n",
              "    </tr>\n",
              "    <tr>\n",
              "      <th>top</th>\n",
              "      <td>LC</td>\n",
              "      <td>B</td>\n",
              "      <td>Não permitiu a convergência do algoritmo de es...</td>\n",
              "      <td>AMARELA</td>\n",
              "    </tr>\n",
              "    <tr>\n",
              "      <th>freq</th>\n",
              "      <td>1450</td>\n",
              "      <td>1336</td>\n",
              "      <td>41</td>\n",
              "      <td>1850</td>\n",
              "    </tr>\n",
              "  </tbody>\n",
              "</table>\n",
              "</div>\n",
              "      <button class=\"colab-df-convert\" onclick=\"convertToInteractive('df-64b04bc3-46dd-4928-9544-074b7a2f538b')\"\n",
              "              title=\"Convert this dataframe to an interactive table.\"\n",
              "              style=\"display:none;\">\n",
              "        \n",
              "  <svg xmlns=\"http://www.w3.org/2000/svg\" height=\"24px\"viewBox=\"0 0 24 24\"\n",
              "       width=\"24px\">\n",
              "    <path d=\"M0 0h24v24H0V0z\" fill=\"none\"/>\n",
              "    <path d=\"M18.56 5.44l.94 2.06.94-2.06 2.06-.94-2.06-.94-.94-2.06-.94 2.06-2.06.94zm-11 1L8.5 8.5l.94-2.06 2.06-.94-2.06-.94L8.5 2.5l-.94 2.06-2.06.94zm10 10l.94 2.06.94-2.06 2.06-.94-2.06-.94-.94-2.06-.94 2.06-2.06.94z\"/><path d=\"M17.41 7.96l-1.37-1.37c-.4-.4-.92-.59-1.43-.59-.52 0-1.04.2-1.43.59L10.3 9.45l-7.72 7.72c-.78.78-.78 2.05 0 2.83L4 21.41c.39.39.9.59 1.41.59.51 0 1.02-.2 1.41-.59l7.78-7.78 2.81-2.81c.8-.78.8-2.07 0-2.86zM5.41 20L4 18.59l7.72-7.72 1.47 1.35L5.41 20z\"/>\n",
              "  </svg>\n",
              "      </button>\n",
              "      \n",
              "  <style>\n",
              "    .colab-df-container {\n",
              "      display:flex;\n",
              "      flex-wrap:wrap;\n",
              "      gap: 12px;\n",
              "    }\n",
              "\n",
              "    .colab-df-convert {\n",
              "      background-color: #E8F0FE;\n",
              "      border: none;\n",
              "      border-radius: 50%;\n",
              "      cursor: pointer;\n",
              "      display: none;\n",
              "      fill: #1967D2;\n",
              "      height: 32px;\n",
              "      padding: 0 0 0 0;\n",
              "      width: 32px;\n",
              "    }\n",
              "\n",
              "    .colab-df-convert:hover {\n",
              "      background-color: #E2EBFA;\n",
              "      box-shadow: 0px 1px 2px rgba(60, 64, 67, 0.3), 0px 1px 3px 1px rgba(60, 64, 67, 0.15);\n",
              "      fill: #174EA6;\n",
              "    }\n",
              "\n",
              "    [theme=dark] .colab-df-convert {\n",
              "      background-color: #3B4455;\n",
              "      fill: #D2E3FC;\n",
              "    }\n",
              "\n",
              "    [theme=dark] .colab-df-convert:hover {\n",
              "      background-color: #434B5C;\n",
              "      box-shadow: 0px 1px 3px 1px rgba(0, 0, 0, 0.15);\n",
              "      filter: drop-shadow(0px 1px 2px rgba(0, 0, 0, 0.3));\n",
              "      fill: #FFFFFF;\n",
              "    }\n",
              "  </style>\n",
              "\n",
              "      <script>\n",
              "        const buttonEl =\n",
              "          document.querySelector('#df-64b04bc3-46dd-4928-9544-074b7a2f538b button.colab-df-convert');\n",
              "        buttonEl.style.display =\n",
              "          google.colab.kernel.accessAllowed ? 'block' : 'none';\n",
              "\n",
              "        async function convertToInteractive(key) {\n",
              "          const element = document.querySelector('#df-64b04bc3-46dd-4928-9544-074b7a2f538b');\n",
              "          const dataTable =\n",
              "            await google.colab.kernel.invokeFunction('convertToInteractive',\n",
              "                                                     [key], {});\n",
              "          if (!dataTable) return;\n",
              "\n",
              "          const docLinkHtml = 'Like what you see? Visit the ' +\n",
              "            '<a target=\"_blank\" href=https://colab.research.google.com/notebooks/data_table.ipynb>data table notebook</a>'\n",
              "            + ' to learn more about interactive tables.';\n",
              "          element.innerHTML = '';\n",
              "          dataTable['output_type'] = 'display_data';\n",
              "          await google.colab.output.renderOutput(dataTable, element);\n",
              "          const docLink = document.createElement('div');\n",
              "          docLink.innerHTML = docLinkHtml;\n",
              "          element.appendChild(docLink);\n",
              "        }\n",
              "      </script>\n",
              "    </div>\n",
              "  </div>\n",
              "  "
            ]
          },
          "metadata": {},
          "execution_count": 25
        }
      ]
    },
    {
      "cell_type": "code",
      "source": [
        "# Áreas de conhecimentos:\n",
        "dados[\"SG_AREA\"].value_counts()"
      ],
      "metadata": {
        "colab": {
          "base_uri": "https://localhost:8080/"
        },
        "id": "5m5zxRI-hvw3",
        "outputId": "e28295b4-cb34-48c5-ebb1-5a76a396832b"
      },
      "execution_count": 30,
      "outputs": [
        {
          "output_type": "execute_result",
          "data": {
            "text/plain": [
              "LC    1450\n",
              "CN    1305\n",
              "CH    1305\n",
              "MT    1305\n",
              "Name: SG_AREA, dtype: int64"
            ]
          },
          "metadata": {},
          "execution_count": 30
        }
      ]
    },
    {
      "cell_type": "code",
      "source": [
        "dados[\"TX_GABARITO\"].value_counts() # X - pode ser uma coluna cancelada"
      ],
      "metadata": {
        "colab": {
          "base_uri": "https://localhost:8080/"
        },
        "id": "GsrKGN7NhzO_",
        "outputId": "faf6262a-2af5-4da4-d2ea-90bd09fbf648"
      },
      "execution_count": 31,
      "outputs": [
        {
          "output_type": "execute_result",
          "data": {
            "text/plain": [
              "B    1336\n",
              "A    1175\n",
              "C     995\n",
              "D     948\n",
              "E     886\n",
              "X      25\n",
              "Name: TX_GABARITO, dtype: int64"
            ]
          },
          "metadata": {},
          "execution_count": 31
        }
      ]
    },
    {
      "cell_type": "code",
      "source": [
        "dados[\"IN_ITEM_ABAN\"].value_counts()"
      ],
      "metadata": {
        "colab": {
          "base_uri": "https://localhost:8080/"
        },
        "id": "_uTyeDRkh-v8",
        "outputId": "dc065f30-88af-4d09-ef58-8e6c7829b3e6"
      },
      "execution_count": 32,
      "outputs": [
        {
          "output_type": "execute_result",
          "data": {
            "text/plain": [
              "0    5299\n",
              "1      66\n",
              "Name: IN_ITEM_ABAN, dtype: int64"
            ]
          },
          "metadata": {},
          "execution_count": 32
        }
      ]
    },
    {
      "cell_type": "code",
      "source": [
        "dados[\"TP_LINGUA\"].value_counts() # Linguagem da prova estrangeira"
      ],
      "metadata": {
        "colab": {
          "base_uri": "https://localhost:8080/"
        },
        "id": "F5LKV0uzgbuv",
        "outputId": "4e58d89f-7afa-4a8f-f1e4-3ad691a80695"
      },
      "execution_count": 29,
      "outputs": [
        {
          "output_type": "execute_result",
          "data": {
            "text/plain": [
              "0.0    145\n",
              "1.0    145\n",
              "Name: TP_LINGUA, dtype: int64"
            ]
          },
          "metadata": {},
          "execution_count": 29
        }
      ]
    }
  ]
}